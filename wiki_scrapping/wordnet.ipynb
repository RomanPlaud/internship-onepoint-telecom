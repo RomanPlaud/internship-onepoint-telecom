{
 "cells": [
  {
   "cell_type": "code",
   "execution_count": 10,
   "metadata": {},
   "outputs": [
    {
     "name": "stderr",
     "output_type": "stream",
     "text": [
      "[nltk_data] Downloading package wordnet to /home/rplaud/nltk_data...\n",
      "[nltk_data]   Package wordnet is already up-to-date!\n",
      "[nltk_data] Downloading package omw-1.4 to /home/rplaud/nltk_data...\n"
     ]
    },
    {
     "data": {
      "text/plain": [
       "True"
      ]
     },
     "execution_count": 10,
     "metadata": {},
     "output_type": "execute_result"
    }
   ],
   "source": [
    "## import wordnet \n",
    "import nltk\n",
    "from nltk.corpus import wordnet\n",
    "\n",
    "#download wordnet\n",
    "nltk.download('wordnet')\n",
    "nltk.download('omw-1.4')\n"
   ]
  },
  {
   "cell_type": "code",
   "execution_count": 14,
   "metadata": {},
   "outputs": [
    {
     "name": "stdout",
     "output_type": "stream",
     "text": [
      "Synset: dog.n.01\n",
      "Definition: a member of the genus Canis (probably descended from the common wolf) that has been domesticated by man since prehistoric times; occurs in many breeds\n",
      "Examples: ['the dog barked all night']\n",
      "------------------\n",
      "Synset: frump.n.01\n",
      "Definition: a dull unattractive unpleasant girl or woman\n",
      "Examples: ['she got a reputation as a frump', \"she's a real dog\"]\n",
      "------------------\n",
      "Synset: dog.n.03\n",
      "Definition: informal term for a man\n",
      "Examples: ['you lucky dog']\n",
      "------------------\n",
      "Synset: cad.n.01\n",
      "Definition: someone who is morally reprehensible\n",
      "Examples: ['you dirty dog']\n",
      "------------------\n",
      "Synset: frank.n.02\n",
      "Definition: a smooth-textured sausage of minced beef or pork usually smoked; often served on a bread roll\n",
      "Examples: []\n",
      "------------------\n",
      "Synset: pawl.n.01\n",
      "Definition: a hinged catch that fits into a notch of a ratchet to move a wheel forward or prevent it from moving backward\n",
      "Examples: []\n",
      "------------------\n",
      "Synset: andiron.n.01\n",
      "Definition: metal supports for logs in a fireplace\n",
      "Examples: ['the andirons were too hot to touch']\n",
      "------------------\n",
      "Synset: chase.v.01\n",
      "Definition: go after with the intent to catch\n",
      "Examples: ['The policeman chased the mugger down the alley', 'the dog chased the rabbit']\n",
      "------------------\n"
     ]
    }
   ],
   "source": [
    "synsets = wordnet.synsets('dog')\n",
    "for synset in synsets:\n",
    "    print('Synset:', synset.name())\n",
    "    print('Definition:', synset.definition())\n",
    "    print('Examples:', synset.examples())\n",
    "    print('------------------')"
   ]
  }
 ],
 "metadata": {
  "kernelspec": {
   "display_name": "env_base",
   "language": "python",
   "name": "python3"
  },
  "language_info": {
   "codemirror_mode": {
    "name": "ipython",
    "version": 3
   },
   "file_extension": ".py",
   "mimetype": "text/x-python",
   "name": "python",
   "nbconvert_exporter": "python",
   "pygments_lexer": "ipython3",
   "version": "3.11.4"
  },
  "orig_nbformat": 4
 },
 "nbformat": 4,
 "nbformat_minor": 2
}
