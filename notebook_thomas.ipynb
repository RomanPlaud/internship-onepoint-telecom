{
 "cells": [
  {
   "cell_type": "markdown",
   "id": "1013ad44",
   "metadata": {},
   "source": [
    "# Hierarchical classification on Wikivitals"
   ]
  },
  {
   "cell_type": "code",
   "execution_count": 1,
   "id": "8718dc55",
   "metadata": {},
   "outputs": [],
   "source": [
    "import numpy as np\n",
    "from scipy import sparse"
   ]
  },
  {
   "cell_type": "code",
   "execution_count": 2,
   "id": "21657184",
   "metadata": {},
   "outputs": [],
   "source": [
    "from sknetwork.data import load_netset"
   ]
  },
  {
   "cell_type": "code",
   "execution_count": 3,
   "id": "c110ce76",
   "metadata": {},
   "outputs": [],
   "source": [
    "from sklearn.linear_model import LogisticRegression\n",
    "from sklearn.metrics import f1_score"
   ]
  },
  {
   "cell_type": "markdown",
   "id": "515eefe6",
   "metadata": {},
   "source": [
    "## Data"
   ]
  },
  {
   "cell_type": "code",
   "execution_count": 4,
   "id": "8f036bcb",
   "metadata": {},
   "outputs": [
    {
     "name": "stdout",
     "output_type": "stream",
     "text": [
      "Parsing files...\n",
      "Done.\n"
     ]
    }
   ],
   "source": [
    "dataset = load_netset('wikivitals')"
   ]
  },
  {
   "cell_type": "code",
   "execution_count": 5,
   "id": "42886490",
   "metadata": {},
   "outputs": [],
   "source": [
    "# links\n",
    "adjacency = dataset.adjacency\n",
    "# words\n",
    "biadjacency = dataset.biadjacency"
   ]
  },
  {
   "cell_type": "code",
   "execution_count": 6,
   "id": "25cbd3ad",
   "metadata": {},
   "outputs": [],
   "source": [
    "labels_hierarchy = dataset.labels_hierarchy\n",
    "names_labels_hierarchy = dataset.names_labels_hierarchy"
   ]
  },
  {
   "cell_type": "code",
   "execution_count": 7,
   "id": "18e94d9a",
   "metadata": {},
   "outputs": [],
   "source": [
    "def get_labels(labels_hierarchy, names_labels_hierarchy, depth=1, sep='|||'):\n",
    "    names_depth = [sep.join(name.split(sep)[:depth]) for name in names_labels_hierarchy]\n",
    "    names_depth_index = {name: i for i, name in enumerate(np.unique(names_depth))}\n",
    "    index = np.array([names_depth_index[name] for name in names_depth])\n",
    "    labels = index[labels_hierarchy]\n",
    "    names_labels = np.array(list(names_depth_index))\n",
    "    return labels, names_labels"
   ]
  },
  {
   "cell_type": "code",
   "execution_count": 8,
   "id": "3f7904b2",
   "metadata": {},
   "outputs": [],
   "source": [
    "labels, names_labels = get_labels(labels_hierarchy, names_labels_hierarchy)"
   ]
  },
  {
   "cell_type": "code",
   "execution_count": 9,
   "id": "296df3c0",
   "metadata": {},
   "outputs": [
    {
     "name": "stdout",
     "output_type": "stream",
     "text": [
      "['Arts' 'Biological and health sciences' 'Everyday life' 'Geography'\n",
      " 'History' 'Mathematics' 'People' 'Philosophy and religion'\n",
      " 'Physical sciences' 'Society and social sciences' 'Technology']\n"
     ]
    }
   ],
   "source": [
    "print(names_labels)"
   ]
  },
  {
   "cell_type": "code",
   "execution_count": 10,
   "id": "1f75c1b3",
   "metadata": {},
   "outputs": [
    {
     "data": {
      "text/plain": [
       "11"
      ]
     },
     "execution_count": 10,
     "metadata": {},
     "output_type": "execute_result"
    }
   ],
   "source": [
    "len(np.unique(labels))"
   ]
  },
  {
   "cell_type": "code",
   "execution_count": 11,
   "id": "c2de9073",
   "metadata": {},
   "outputs": [],
   "source": [
    "labels, names_labels = get_labels(labels_hierarchy, names_labels_hierarchy, depth=2)"
   ]
  },
  {
   "cell_type": "code",
   "execution_count": 12,
   "id": "ab6da671",
   "metadata": {},
   "outputs": [
    {
     "name": "stdout",
     "output_type": "stream",
     "text": [
      "['Arts|||Architecture' 'Arts|||Cultural venues'\n",
      " 'Arts|||Fictional characters' 'Arts|||General' 'Arts|||Literature'\n",
      " 'Arts|||Modern visual arts' 'Arts|||Music' 'Arts|||Performing arts'\n",
      " 'Arts|||Visual arts'\n",
      " 'Biological and health sciences|||Anatomy and morphology']\n"
     ]
    }
   ],
   "source": [
    "print(names_labels[:10])"
   ]
  },
  {
   "cell_type": "code",
   "execution_count": 13,
   "id": "7e6abece",
   "metadata": {},
   "outputs": [
    {
     "data": {
      "text/plain": [
       "109"
      ]
     },
     "execution_count": 13,
     "metadata": {},
     "output_type": "execute_result"
    }
   ],
   "source": [
    "len(np.unique(labels))"
   ]
  },
  {
   "cell_type": "markdown",
   "id": "8ac8d63a",
   "metadata": {},
   "source": [
    "## Training"
   ]
  },
  {
   "cell_type": "code",
   "execution_count": 14,
   "id": "f7727d59",
   "metadata": {},
   "outputs": [],
   "source": [
    "train = np.random.random(len(labels)) < 0.8\n",
    "X_train = biadjacency[train]\n",
    "X_test = biadjacency[~train]"
   ]
  },
  {
   "cell_type": "code",
   "execution_count": 15,
   "id": "74bec508",
   "metadata": {},
   "outputs": [
    {
     "name": "stdout",
     "output_type": "stream",
     "text": [
      "Depth Accuracy Macro-F1\n"
     ]
    },
    {
     "name": "stderr",
     "output_type": "stream",
     "text": [
      "/opt/homebrew/lib/python3.9/site-packages/sklearn/linear_model/_logistic.py:458: ConvergenceWarning: lbfgs failed to converge (status=1):\n",
      "STOP: TOTAL NO. of ITERATIONS REACHED LIMIT.\n",
      "\n",
      "Increase the number of iterations (max_iter) or scale the data as shown in:\n",
      "    https://scikit-learn.org/stable/modules/preprocessing.html\n",
      "Please also refer to the documentation for alternative solver options:\n",
      "    https://scikit-learn.org/stable/modules/linear_model.html#logistic-regression\n",
      "  n_iter_i = _check_optimize_result(\n"
     ]
    },
    {
     "name": "stdout",
     "output_type": "stream",
     "text": [
      "1 0.8937747035573123 0.8685146767870037\n",
      "2 0.775197628458498 0.6125804088265839\n"
     ]
    },
    {
     "name": "stderr",
     "output_type": "stream",
     "text": [
      "/opt/homebrew/lib/python3.9/site-packages/sklearn/linear_model/_logistic.py:458: ConvergenceWarning: lbfgs failed to converge (status=1):\n",
      "STOP: TOTAL NO. of ITERATIONS REACHED LIMIT.\n",
      "\n",
      "Increase the number of iterations (max_iter) or scale the data as shown in:\n",
      "    https://scikit-learn.org/stable/modules/preprocessing.html\n",
      "Please also refer to the documentation for alternative solver options:\n",
      "    https://scikit-learn.org/stable/modules/linear_model.html#logistic-regression\n",
      "  n_iter_i = _check_optimize_result(\n"
     ]
    }
   ],
   "source": [
    "print('Depth Accuracy Macro-F1')\n",
    "for depth in [1, 2]:\n",
    "    labels, names_labels = get_labels(labels_hierarchy, names_labels_hierarchy, depth)\n",
    "    y_train = labels[train]\n",
    "    y_test = labels[~train]\n",
    "    model = LogisticRegression(max_iter=500)\n",
    "    model.fit(X_train, y_train)\n",
    "    y_pred = model.predict(X_test)\n",
    "    print(depth, np.mean(y_test==y_pred), f1_score(y_test, y_pred, average='macro'))"
   ]
  }
 ],
 "metadata": {
  "kernelspec": {
   "display_name": "Python 3 (ipykernel)",
   "language": "python",
   "name": "python3"
  },
  "language_info": {
   "codemirror_mode": {
    "name": "ipython",
    "version": 3
   },
   "file_extension": ".py",
   "mimetype": "text/x-python",
   "name": "python",
   "nbconvert_exporter": "python",
   "pygments_lexer": "ipython3",
   "version": "3.9.13"
  }
 },
 "nbformat": 4,
 "nbformat_minor": 5
}
